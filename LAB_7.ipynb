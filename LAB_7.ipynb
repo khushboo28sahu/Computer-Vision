{
  "nbformat": 4,
  "nbformat_minor": 0,
  "metadata": {
    "colab": {
      "name": "LAB 7.ipynb",
      "provenance": [],
      "collapsed_sections": [],
      "toc_visible": true,
      "include_colab_link": true
    },
    "kernelspec": {
      "name": "python3",
      "display_name": "Python 3"
    }
  },
  "cells": [
    {
      "cell_type": "markdown",
      "metadata": {
        "id": "view-in-github",
        "colab_type": "text"
      },
      "source": [
        "<a href=\"https://colab.research.google.com/github/khushboo28sahu/Computer-Vision/blob/main/LAB_7.ipynb\" target=\"_parent\"><img src=\"https://colab.research.google.com/assets/colab-badge.svg\" alt=\"Open In Colab\"/></a>"
      ]
    },
    {
      "cell_type": "markdown",
      "metadata": {
        "id": "RtCyaxBgb7Cl"
      },
      "source": [
        "\n",
        "WAP for feature extraction using BRIEF and ORB.\n",
        "Test the program for any 3-4 images\n"
      ]
    },
    {
      "cell_type": "markdown",
      "metadata": {
        "id": "2Poyb-AVcoE3"
      },
      "source": [
        "#ORB"
      ]
    },
    {
      "cell_type": "code",
      "metadata": {
        "id": "RXG3_fL7b38w"
      },
      "source": [
        "import numpy as np\n",
        "import cv2\n",
        "from matplotlib import pyplot as plt\n",
        "\n",
        "img = cv2.imread('/content/drive/My Drive/Mtech_Sem2 /Computer Vision/Colab_FIle/corner 4.jpg',0)\n",
        "\n",
        "# Initiate STAR detector\n",
        "orb = cv2.ORB()\n",
        "\n",
        "# find the keypoints with ORB\n",
        "kp = orb.detect(img,None)\n",
        "\n",
        "# compute the descriptors with ORB\n",
        "kp, des = orb.compute(img, kp)\n",
        "\n",
        "# draw only keypoints location,not size and orientation\n",
        "img2 = cv2.drawKeypoints(img,kp,color=(0,255,0), flags=0)\n",
        "plt.imshow(img2),plt.show()"
      ],
      "execution_count": null,
      "outputs": []
    },
    {
      "cell_type": "markdown",
      "metadata": {
        "id": "g8KghHe-ctWu"
      },
      "source": [
        "# BRIEF"
      ]
    },
    {
      "cell_type": "code",
      "metadata": {
        "id": "6rBW2QoMc74s",
        "colab": {
          "base_uri": "https://localhost:8080/",
          "height": 53
        },
        "outputId": "38c7f782-5384-4f6b-80ec-a8bae3706526"
      },
      "source": [
        "from google.colab import drive\n",
        "drive.mount('/content/drive')"
      ],
      "execution_count": null,
      "outputs": [
        {
          "output_type": "stream",
          "text": [
            "Drive already mounted at /content/drive; to attempt to forcibly remount, call drive.mount(\"/content/drive\", force_remount=True).\n"
          ],
          "name": "stdout"
        }
      ]
    },
    {
      "cell_type": "code",
      "metadata": {
        "id": "T6bJWdvLcwxK"
      },
      "source": [
        ""
      ],
      "execution_count": null,
      "outputs": []
    }
  ]
}